{
 "cells": [
  {
   "cell_type": "code",
   "execution_count": 2,
   "id": "6292c9c9-7497-4e75-b9b7-59a944e063a0",
   "metadata": {},
   "outputs": [
    {
     "name": "stderr",
     "output_type": "stream",
     "text": [
      "25/03/22 11:36:52 WARN Utils: Your hostname, Farizs-MacBook-Pro.local resolves to a loopback address: 127.0.0.1; using 192.168.1.189 instead (on interface en0)\n",
      "25/03/22 11:36:52 WARN Utils: Set SPARK_LOCAL_IP if you need to bind to another address\n",
      "Setting default log level to \"WARN\".\n",
      "To adjust logging level use sc.setLogLevel(newLevel). For SparkR, use setLogLevel(newLevel).\n",
      "25/03/22 11:36:53 WARN NativeCodeLoader: Unable to load native-hadoop library for your platform... using builtin-java classes where applicable\n"
     ]
    }
   ],
   "source": [
    "import pandas as pd\n",
    "from pyspark.sql import SparkSession\n",
    "\n",
    "spark = SparkSession.builder.appName(\"demo\").getOrCreate()"
   ]
  },
  {
   "cell_type": "code",
   "execution_count": 4,
   "id": "41c3be42-b64e-41ae-b327-3766d793fd42",
   "metadata": {},
   "outputs": [
    {
     "name": "stdout",
     "output_type": "stream",
     "text": [
      "+----------+---+\n",
      "|first_name|age|\n",
      "+----------+---+\n",
      "|       sue| 32|\n",
      "|        li|  3|\n",
      "|       bob| 75|\n",
      "|       heo| 13|\n",
      "+----------+---+\n",
      "\n"
     ]
    },
    {
     "name": "stderr",
     "output_type": "stream",
     "text": [
      "                                                                                \r"
     ]
    }
   ],
   "source": [
    "df = spark.createDataFrame(\n",
    "    [\n",
    "        (\"sue\", 32),\n",
    "        (\"li\", 3),\n",
    "        (\"bob\", 75),\n",
    "        (\"heo\", 13),\n",
    "    ],\n",
    "    [\"first_name\", \"age\"],\n",
    ")\n",
    "df.show()"
   ]
  },
  {
   "cell_type": "code",
   "execution_count": 12,
   "id": "8b859c77-d630-4aff-96a8-acad6f07a0e2",
   "metadata": {},
   "outputs": [],
   "source": [
    "from pyspark import SparkContext\n",
    "\n",
    "if SparkContext._active_spark_context:\n",
    "    SparkContext._active_spark_context.stop()\n"
   ]
  },
  {
   "cell_type": "code",
   "execution_count": 1,
   "id": "19f5fcd3-3770-42b4-816d-d05b056cc07e",
   "metadata": {},
   "outputs": [
    {
     "name": "stderr",
     "output_type": "stream",
     "text": [
      "25/03/22 12:08:52 WARN Utils: Your hostname, Farizs-MacBook-Pro.local resolves to a loopback address: 127.0.0.1; using 192.168.1.189 instead (on interface en0)\n",
      "25/03/22 12:08:52 WARN Utils: Set SPARK_LOCAL_IP if you need to bind to another address\n",
      "Setting default log level to \"WARN\".\n",
      "To adjust logging level use sc.setLogLevel(newLevel). For SparkR, use setLogLevel(newLevel).\n",
      "25/03/22 12:08:53 WARN NativeCodeLoader: Unable to load native-hadoop library for your platform... using builtin-java classes where applicable\n"
     ]
    },
    {
     "name": "stdout",
     "output_type": "stream",
     "text": [
      "Spark Context Initialized: MyFirstSparkApp\n"
     ]
    }
   ],
   "source": [
    "from pyspark import SparkConf, SparkContext\n",
    "\n",
    "appName = \"MyFirstSparkApp\"\n",
    "master = \"local[*]\"  # Run locally using all available cores\n",
    "\n",
    "conf = SparkConf().setAppName(appName).setMaster(master)\n",
    "sc = SparkContext(conf=conf)\n",
    "\n",
    "print(\"Spark Context Initialized:\", sc.appName)\n"
   ]
  },
  {
   "cell_type": "code",
   "execution_count": 16,
   "id": "66519704-c5bb-41a4-a22e-12a623b7bc7b",
   "metadata": {},
   "outputs": [
    {
     "data": {
      "text/plain": [
       "('local[*]', 'MyFirstSparkApp')"
      ]
     },
     "execution_count": 16,
     "metadata": {},
     "output_type": "execute_result"
    }
   ],
   "source": [
    "conf.get('spark.master'), conf.get('spark.app.name')"
   ]
  },
  {
   "cell_type": "code",
   "execution_count": 18,
   "id": "f5b04a0f-fe14-4d72-b61e-5a870ecb86c5",
   "metadata": {},
   "outputs": [
    {
     "data": {
      "text/plain": [
       "ParallelCollectionRDD[1] at readRDDFromFile at PythonRDD.scala:287"
      ]
     },
     "execution_count": 18,
     "metadata": {},
     "output_type": "execute_result"
    }
   ],
   "source": [
    "data = [1, 2, 3, 4, 5]\n",
    "distData = sc.parallelize(data)\n",
    "distData"
   ]
  },
  {
   "cell_type": "code",
   "execution_count": 27,
   "id": "88459492-7d49-4e21-b726-6251987ea659",
   "metadata": {},
   "outputs": [
    {
     "name": "stdout",
     "output_type": "stream",
     "text": [
      "[(1, 'a'), (2, 'aa'), (3, 'aaa')]\n",
      "PythonRDD[31] at RDD at PythonRDD.scala:53\n"
     ]
    }
   ],
   "source": [
    "output_path = \"/Users/farizrzayev/Downloads/sequence_output\"\n",
    "\n",
    "rdd = sc.parallelize(range(1, 4)).map(lambda x: (x, \"a\" * x))\n",
    "# rdd.saveAsSequenceFile(output_path)\n",
    "\n",
    "loaded_rdd = sc.sequenceFile(output_path)\n",
    "print(sorted(loaded_rdd.collect()))\n"
   ]
  },
  {
   "cell_type": "code",
   "execution_count": 28,
   "id": "2aa3a21c-796a-4957-ab40-f23a76160f97",
   "metadata": {},
   "outputs": [
    {
     "name": "stdout",
     "output_type": "stream",
     "text": [
      "Requirement already satisfied: pyspark in /Users/farizrzayev/miniconda3/lib/python3.12/site-packages (3.4.1)\n",
      "Collecting elasticsearch\n",
      "  Downloading elasticsearch-8.17.2-py3-none-any.whl.metadata (8.8 kB)\n",
      "Requirement already satisfied: py4j==0.10.9.7 in /Users/farizrzayev/miniconda3/lib/python3.12/site-packages (from pyspark) (0.10.9.7)\n",
      "Collecting elastic-transport<9,>=8.15.1 (from elasticsearch)\n",
      "  Downloading elastic_transport-8.17.1-py3-none-any.whl.metadata (3.8 kB)\n",
      "Requirement already satisfied: urllib3<3,>=1.26.2 in /Users/farizrzayev/miniconda3/lib/python3.12/site-packages (from elastic-transport<9,>=8.15.1->elasticsearch) (2.2.2)\n",
      "Requirement already satisfied: certifi in /Users/farizrzayev/miniconda3/lib/python3.12/site-packages (from elastic-transport<9,>=8.15.1->elasticsearch) (2024.8.30)\n",
      "Downloading elasticsearch-8.17.2-py3-none-any.whl (717 kB)\n",
      "\u001b[2K   \u001b[38;2;114;156;31m━━━━━━━━━━━━━━━━━━━━━━━━━━━━━━━━━━━━━━━━\u001b[0m \u001b[32m718.0/718.0 kB\u001b[0m \u001b[31m14.7 MB/s\u001b[0m eta \u001b[36m0:00:00\u001b[0m\n",
      "\u001b[?25hDownloading elastic_transport-8.17.1-py3-none-any.whl (64 kB)\n",
      "Installing collected packages: elastic-transport, elasticsearch\n",
      "Successfully installed elastic-transport-8.17.1 elasticsearch-8.17.2\n",
      "\n",
      "\u001b[1m[\u001b[0m\u001b[34;49mnotice\u001b[0m\u001b[1;39;49m]\u001b[0m\u001b[39;49m A new release of pip is available: \u001b[0m\u001b[31;49m24.3.1\u001b[0m\u001b[39;49m -> \u001b[0m\u001b[32;49m25.0.1\u001b[0m\n",
      "\u001b[1m[\u001b[0m\u001b[34;49mnotice\u001b[0m\u001b[1;39;49m]\u001b[0m\u001b[39;49m To update, run: \u001b[0m\u001b[32;49mpip install --upgrade pip\u001b[0m\n"
     ]
    }
   ],
   "source": [
    "!pip install pyspark elasticsearch\n"
   ]
  },
  {
   "cell_type": "code",
   "execution_count": 28,
   "id": "60cfdc15-9499-4ccf-9db0-49b3f8357445",
   "metadata": {},
   "outputs": [
    {
     "data": {
      "text/plain": [
       "PythonRDD[63] at RDD at PythonRDD.scala:53"
      ]
     },
     "execution_count": 28,
     "metadata": {},
     "output_type": "execute_result"
    }
   ],
   "source": [
    "\n",
    "lines = sc.textFile(\"demospark.txt\")\n",
    "lineLengths = lines.map(lambda s: len(s))\n",
    "totalLength = lineLengths.reduce(lambda a, b: a + b)\n",
    "\n",
    "# lineLengths.persist()\n",
    "lines\n",
    "lineLengths\n",
    "# totalLength\n",
    "lineLengths.persist()"
   ]
  },
  {
   "cell_type": "code",
   "execution_count": 12,
   "id": "1c10b3e7-c73e-43a2-84e3-7206b211b32f",
   "metadata": {},
   "outputs": [
    {
     "data": {
      "text/plain": [
       "PythonRDD[10] at RDD at PythonRDD.scala:53"
      ]
     },
     "execution_count": 12,
     "metadata": {},
     "output_type": "execute_result"
    }
   ],
   "source": [
    "lineLengths = lines.map(lambda s: len(s))\n",
    "lineLengths\n",
    "\n",
    "# totalLength = lineLengths.reduce(lambda a, b: a + b)\n"
   ]
  }
 ],
 "metadata": {
  "kernelspec": {
   "display_name": "Python 3 (ipykernel)",
   "language": "python",
   "name": "python3"
  },
  "language_info": {
   "codemirror_mode": {
    "name": "ipython",
    "version": 3
   },
   "file_extension": ".py",
   "mimetype": "text/x-python",
   "name": "python",
   "nbconvert_exporter": "python",
   "pygments_lexer": "ipython3",
   "version": "3.12.7"
  }
 },
 "nbformat": 4,
 "nbformat_minor": 5
}
